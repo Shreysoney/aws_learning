{
 "cells": [
  {
   "cell_type": "markdown",
   "id": "c0958475",
   "metadata": {},
   "source": [
    "<h1 style= 'font-size:3rem'><u>Pandas</u></h1>"
   ]
  },
  {
   "cell_type": "markdown",
   "id": "b21061cf",
   "metadata": {},
   "source": [
    "# Introduction to Pandas in Python\n",
    "\n",
    "Pandas is an open-source library that is made mainly for working with relational or labeled data both easily and intuitively. It provides various data structures and operations for manipulating numerical data and time series. This library is built on top of the NumPy library. Pandas is fast and it has high performance & productivity for users.\n",
    "History: Pandas were initially developed by Wes McKinney in 2008 while he was working at AQR Capital Management. He convinced the AQR to allow him to open source the Pandas. Another AQR employee, Chang She, joined as the second major contributor to the library in 2012. Over time many versions of pandas have been released. The latest version of the pandas is 1.5.0, released on Sep 19, 2022.\n",
    "## Advantages \n",
    "\n",
    "<ul>Fast and efficient for manipulating and analyzing data.</ul>\n",
    "<ul>Data from different file objects can be loaded.</ul>\n",
    "<ul>Easy handling of missing data (represented as NaN) in floating point as well as non-floating point data</ul>\n",
    "<ul>Size mutability: columns can be inserted and deleted from DataFrame and higher dimensional objects</ul>\n",
    "<ul>Data set merging and joining.</ul>\n",
    "<ul>Flexible reshaping and pivoting of data sets</ul>\n",
    "<ul>Provides time-series functionality.</ul>\n",
    "<ul>Powerful group by functionality for performing split-apply-combine operations on data sets.</ul>\n",
    "\n",
    "## Getting Started\n",
    "\n",
    "The first step of working in pandas is to ensure whether it is installed in the Python folder or not.  If not then we need to install it in our system using pip command. Type cmd command in the search box and locate the folder using cd command where python-pip file has been installed.  After locating it, type the command:\n",
    "#### <ul>pip install pandas</ul>\n",
    "\n",
    "After the pandas have been installed into the system, you need to import the library. This module is generally imported as:\n",
    "#### <ul>import pandas as pd</ul>\n",
    "\n",
    "Here, pd is referred to as an alias to the Pandas. However, it is not necessary to import the library using the alias, it just helps in writing less amount code every time a method or property is called. \n",
    "Pandas generally provide two data structures for manipulating data, They are: \n",
    "\n",
    "<ul>Series</ul>\n",
    "<ul>DataFrame</ul>\n",
    "\n",
    "### Series:\n",
    "Pandas Series is a one-dimensional labeled array capable of holding data of any type (integer, string, float, python objects, etc.). The axis labels are collectively called indexes. Pandas Series is nothing but a column in an excel sheet. Labels need not be unique but must be a hashable type. The object supports both integer and label-based indexing and provides a host of methods for performing operations involving the index.\n",
    "\n",
    "### Creating a Series\n",
    "In the real world, a Pandas Series will be created by loading the datasets from existing storage, storage can be SQL Database, CSV file, an Excel file. Pandas Series can be created from the lists, dictionary, and from a scalar value etc.\n",
    "\n",
    "#### Example:"
   ]
  },
  {
   "cell_type": "code",
   "execution_count": 5,
   "id": "c287a621",
   "metadata": {},
   "outputs": [
    {
     "name": "stdout",
     "output_type": "stream",
     "text": [
      "Series([], dtype: float64)\n",
      "0    c\n",
      "1    a\n",
      "2    d\n",
      "3    k\n",
      "4    s\n",
      "dtype: object\n"
     ]
    },
    {
     "name": "stderr",
     "output_type": "stream",
     "text": [
      "C:\\Users\\AIT\\AppData\\Local\\Temp\\ipykernel_16616\\2143596148.py:6: FutureWarning: The default dtype for empty Series will be 'object' instead of 'float64' in a future version. Specify a dtype explicitly to silence this warning.\n",
      "  ser = pd.Series()\n"
     ]
    }
   ],
   "source": [
    "import pandas as pd\n",
    "import numpy as np\n",
    "\n",
    "\n",
    "# Creating empty series\n",
    "ser = pd.Series()\n",
    "\n",
    "print(ser)\n",
    "\n",
    "# simple array\n",
    "data = np.array(['c', 'a', 'd', 'k', 's'])\n",
    "\n",
    "ser = pd.Series(data)\n",
    "print(ser)"
   ]
  },
  {
   "cell_type": "markdown",
   "id": "21cd924b",
   "metadata": {},
   "source": [
    "## DataFrame\n",
    "Pandas DataFrame is a two-dimensional size-mutable, potentially heterogeneous tabular data structure with labeled axes (rows and columns). A Data frame is a two-dimensional data structure, i.e., data is aligned in a tabular fashion in rows and columns. Pandas DataFrame consists of three principal components, the data, rows, and columns.\n",
    "### Creating a DataFrame:\n",
    "In the real world, a Pandas DataFrame will be created by loading the datasets from existing storage, storage can be SQL Database, CSV file, an Excel file. Pandas DataFrame can be created from the lists, dictionary, and from a list of dictionaries, etc.\n",
    "\n",
    "#### Example:"
   ]
  },
  {
   "cell_type": "code",
   "execution_count": 7,
   "id": "64ac13d0",
   "metadata": {},
   "outputs": [
    {
     "name": "stdout",
     "output_type": "stream",
     "text": [
      "Empty DataFrame\n",
      "Columns: []\n",
      "Index: []\n",
      "        0\n",
      "0    Adam\n",
      "1     And\n",
      "2     Eve\n",
      "3     are\n",
      "4     the\n",
      "5   first\n",
      "6  humans\n"
     ]
    }
   ],
   "source": [
    "import pandas as pd\n",
    "\n",
    "# Calling DataFrame constructor\n",
    "df = pd.DataFrame()\n",
    "print(df)\n",
    "\n",
    "# list of strings\n",
    "lst = ['Adam', 'And', 'Eve', 'are','the', 'first', 'humans']\n",
    "\n",
    "# Calling DataFrame constructor on list\n",
    "df = pd.DataFrame(lst)\n",
    "print(df)"
   ]
  },
  {
   "cell_type": "markdown",
   "id": "7499fce7",
   "metadata": {},
   "source": [
    "## Why Pandas is used for Data Science\n",
    "Pandas are generally used for data science but have you wondered why? This is because pandas are used in conjunction with other libraries that are used for data science. It is built on the top of the NumPy library which means that a lot of structures of NumPy are used or replicated in Pandas. The data produced by Pandas are often used as input for plotting functions of Matplotlib, statistical analysis in SciPy, and machine learning algorithms in Scikit-learn.\n",
    "Pandas program can be run from any text editor but it is recommended to use Jupyter Notebook for this as Jupyter given the ability to execute code in a particular cell rather than executing the entire file. Jupyter also provides an easy way to visualize pandas data frames and plots."
   ]
  },
  {
   "cell_type": "markdown",
   "id": "c7bd3d4e",
   "metadata": {},
   "source": [
    "## What's Pandas for?\n",
    "Pandas has so many uses that it might make sense to list the things it can't do instead of what it can do.\n",
    "\n",
    "This tool is essentially your data’s home. Through pandas, you get acquainted with your data by cleaning, transforming, and analyzing it.\n",
    "\n",
    "For example, say you want to explore a dataset stored in a CSV on your computer. Pandas will extract the data from that CSV into a DataFrame — a table, basically — then let you do things like:\n",
    "\n",
    "Calculate statistics and answer questions about the data, like\n",
    "What's the average, median, max, or min of each column?\n",
    "Does column A correlate with column B?\n",
    "What does the distribution of data in column C look like?\n",
    "Clean the data by doing things like removing missing values and filtering rows or columns by some criteria\n",
    "Visualize the data with help from Matplotlib. Plot bars, lines, histograms, bubbles, and more.\n",
    "Store the cleaned, transformed data back into a CSV, other file or database"
   ]
  },
  {
   "cell_type": "markdown",
   "id": "66ca146e",
   "metadata": {},
   "source": [
    "## Some Pandas Functions\n",
    "\n",
    "import numpy as np <br>\n",
    "import pandas as pd\n",
    "\n",
    "<ul>pd.read_csv, pd.read_excel</ul>\n",
    "<ul>df.columns</ul>\n",
    "<ul>df.drop()</ul>\n",
    "<ul>len()</ul>\n",
    "<ul>df.query()</ul>\n",
    "<ul>df.iloc()</ul>\n",
    "<ul>df.loc()</ul>\n",
    "<ul>df[''].dtypes</ul>\n",
    "<ul>df.select_dtypes()</ul>\n",
    "<ul>df.insert()</ul>\n",
    "<ul>df[''].cumsum()</ul>\n",
    "<ul>df.sample()</ul>\n",
    "<ul>df[''].where()</ul>\n",
    "<ul>df[''].unique()</ul>\n",
    "<ul>df[''].nunique()</ul>\n",
    "<ul>df[''].rank()</ul>\n",
    "<ul>.isin()</ul>\n",
    "<ul>df.replace()</ul>\n",
    "<ul>df.rename()</ul>\n",
    "<ul>.fillna()</ul>"
   ]
  },
  {
   "cell_type": "code",
   "execution_count": null,
   "id": "5eb0ed01",
   "metadata": {},
   "outputs": [],
   "source": []
  }
 ],
 "metadata": {
  "kernelspec": {
   "display_name": "Python 3 (ipykernel)",
   "language": "python",
   "name": "python3"
  },
  "language_info": {
   "codemirror_mode": {
    "name": "ipython",
    "version": 3
   },
   "file_extension": ".py",
   "mimetype": "text/x-python",
   "name": "python",
   "nbconvert_exporter": "python",
   "pygments_lexer": "ipython3",
   "version": "3.9.13"
  }
 },
 "nbformat": 4,
 "nbformat_minor": 5
}
